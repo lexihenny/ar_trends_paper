{
 "cells": [
  {
   "cell_type": "code",
   "execution_count": null,
   "id": "45988182",
   "metadata": {},
   "outputs": [],
   "source": [
    "import numpy as np\n",
    "import xarray as xr\n",
    "import os,errno\n",
    "import sys\n",
    "import matplotlib.pyplot as plt\n",
    "import cartopy.crs as ccrs\n",
    "import geopy.distance\n",
    "\n",
    "dir_data='/Users/ahenny/'\n",
    "dir2='/Volumes/Extreme Pro/'\n",
    "dir3='/Volumes/My Passport/'"
   ]
  },
  {
   "cell_type": "code",
   "execution_count": null,
   "id": "b918b06c",
   "metadata": {},
   "outputs": [],
   "source": [
    "#ds.close()\n",
    "ds=xr.open_dataset(dir_data+'ar_vars_geomeans_era5.nc')\n",
    "ivt_concat_era5_variable=ds['ivt_concat_era5_variable']\n",
    "iwv_concat_era5_variable=ds['iwv_concat_era5_variable']\n",
    "s_concat_era5_variable=ds['s_concat_era5_variable']\n",
    "mfc_concat_era5_variable=ds['mfc_concat_era5_variable']\n",
    "\n",
    "ivt_concat_era5_fixed=ds['ivt_concat_era5_fixed']\n",
    "iwv_concat_era5_fixed=ds['iwv_concat_era5_fixed']\n",
    "s_concat_era5_fixed=ds['s_concat_era5_fixed']\n",
    "mfc_concat_era5_fixed=ds['mfc_concat_era5_fixed']\n",
    "\n",
    "ivt_concat_era5_fixed_poleward=ds['ivt_concat_era5_fixed_poleward']\n",
    "iwv_concat_era5_fixed_poleward=ds['iwv_concat_era5_fixed_poleward']\n",
    "s_concat_era5_fixed_poleward=ds['s_concat_era5_fixed_poleward']\n",
    "mfc_concat_era5_fixed_poleward=ds['mfc_concat_era5_fixed_poleward']\n",
    "\n",
    "\n",
    "ds=xr.open_dataset(dir_data+'ar_vars_geomeans_merra2.nc')\n",
    "ivt_concat_merra2_variable=ds['ivt_concat_merra2_variable']\n",
    "iwv_concat_merra2_variable=ds['iwv_concat_merra2_variable']\n",
    "s_concat_merra2_variable=ds['s_concat_merra2_variable']\n",
    "mfc_concat_merra2_variable=ds['mfc_concat_merra2_variable']\n",
    "\n",
    "ivt_concat_merra2_fixed=ds['ivt_concat_merra2_fixed']\n",
    "iwv_concat_merra2_fixed=ds['iwv_concat_merra2_fixed']\n",
    "s_concat_merra2_fixed=ds['s_concat_merra2_fixed']\n",
    "mfc_concat_merra2_fixed=ds['mfc_concat_merra2_fixed']\n",
    "\n",
    "ivt_concat_merra2_fixed_poleward=ds['ivt_concat_merra2_fixed_poleward']\n",
    "iwv_concat_merra2_fixed_poleward=ds['iwv_concat_merra2_fixed_poleward']\n",
    "s_concat_merra2_fixed_poleward=ds['s_concat_merra2_fixed_poleward']\n",
    "mfc_concat_merra2_fixed_poleward=ds['mfc_concat_merra2_fixed_poleward']\n",
    "\n",
    "\n",
    "ds=xr.open_dataset(dir_data+'ar_vars_geomeans_jra55.nc')\n",
    "ivt_concat_jra55_variable=ds['ivt_concat_jra55_variable']\n",
    "iwv_concat_jra55_variable=ds['iwv_concat_jra55_variable']\n",
    "s_concat_jra55_variable=ds['s_concat_jra55_variable']\n",
    "\n",
    "ivt_concat_jra55_fixed=ds['ivt_concat_jra55_fixed']\n",
    "iwv_concat_jra55_fixed=ds['iwv_concat_jra55_fixed']\n",
    "s_concat_jra55_fixed=ds['s_concat_jra55_fixed']\n",
    "\n",
    "ivt_concat_jra55_fixed_poleward=ds['ivt_concat_jra55_fixed_poleward']\n",
    "iwv_concat_jra55_fixed_poleward=ds['iwv_concat_jra55_fixed_poleward']\n",
    "s_concat_jra55_fixed_poleward=ds['s_concat_jra55_fixed_poleward']"
   ]
  },
  {
   "cell_type": "code",
   "execution_count": null,
   "id": "0fdf1927",
   "metadata": {
    "scrolled": true
   },
   "outputs": [],
   "source": [
    "point=(100,100)\n",
    "time_series_start=ivt_concat_merra2_fixed[:,100,100].values.tolist()\n",
    "\n",
    "corr_array=xr.zeros_like(ivt_concat_merra2_fixed[0,:,:])\n",
    "for j in range(ivt_concat_merra2_fixed.lat.size):\n",
    "    print(j)\n",
    "    for k in range(ivt_concat_merra2_fixed.lon.size):\n",
    "        time_series=ivt_concat_merra2_fixed[:,j,k].values.tolist()\n",
    "        corr=np.corrcoef(time_series_start,time_series)[1,0]\n",
    "        corr_array[j,k]=corr"
   ]
  },
  {
   "cell_type": "code",
   "execution_count": null,
   "id": "3c5cf4b2",
   "metadata": {},
   "outputs": [],
   "source": [
    "fig=plt.figure(figsize=(20,10))\n",
    "ax=plt.subplot(1,1,1,projection=ccrs.PlateCarree())\n",
    "cax=ax.pcolormesh(corr_array.lon,corr_array.lat,corr_array,vmin=-1,vmax=1,cmap=plt.cm.seismic)\n",
    "\n",
    "c=ax.contour(corr_array.lon,corr_array.lat,corr_array,levels=[1./2.718],color='k',linewidths=1.0)\n",
    "\n",
    "dist_list=[]\n",
    "points=c.allsegs[0][0]\n",
    "for point in points:\n",
    "    distance=geopy.distance.distance((corr_array.lat.values[100],corr_array.lon.values[100]),(point[1],point[0])).km\n",
    "    dist_list.append(distance)\n",
    "\n",
    "mean_distance=float(sum(dist_list))/float(len(dist_list))\n",
    "print(mean_distance)\n",
    "\n",
    "cbar=plt.colorbar(cax,pad=0,fraction=0.046)\n",
    "cbar.set_label('Correlation')\n",
    "ax.coastlines(resolution='10m')\n",
    "ax.plot(corr_array.lon.values[100],corr_array.lat.values[100],'ko',markersize=10)\n",
    "#ax.plot(corr_array.lon.values[150],corr_array.lat.values[270],'ko',markersize=10)\n",
    "plt.show()"
   ]
  },
  {
   "cell_type": "code",
   "execution_count": null,
   "id": "55beafff",
   "metadata": {
    "scrolled": true
   },
   "outputs": [],
   "source": [
    "time_series_start=ivt_concat_merra2_fixed[:,270,150].values.tolist()\n",
    "\n",
    "corr_array=xr.zeros_like(ivt_concat_merra2_fixed[0,:,:])\n",
    "for j in range(ivt_concat_merra2_fixed.lat.size):\n",
    "    print(j)\n",
    "    for k in range(ivt_concat_merra2_fixed.lon.size):\n",
    "        time_series=ivt_concat_merra2_fixed[:,j,k].values.tolist()\n",
    "        corr=np.corrcoef(time_series_start,time_series)[1,0]\n",
    "        corr_array[j,k]=corr"
   ]
  },
  {
   "cell_type": "code",
   "execution_count": null,
   "id": "fb6f8d7a",
   "metadata": {},
   "outputs": [],
   "source": [
    "fig=plt.figure(figsize=(20,10))\n",
    "ax=plt.subplot(1,1,1,projection=ccrs.PlateCarree())\n",
    "cax=ax.pcolormesh(corr_array.lon,corr_array.lat,corr_array,vmin=-1,vmax=1,cmap=plt.cm.seismic)\n",
    "\n",
    "c=ax.contour(corr_array.lon,corr_array.lat,corr_array,levels=[1./2.718],color='k',linewidths=1.0)\n",
    "\n",
    "dist_list=[]\n",
    "points=c.allsegs[0][0]\n",
    "for point in points:\n",
    "    distance=geopy.distance.distance((corr_array.lat.values[270],corr_array.lon.values[150]),(point[1],point[0])).km\n",
    "    dist_list.append(distance)\n",
    "\n",
    "mean_distance=float(sum(dist_list))/float(len(dist_list))\n",
    "print(mean_distance)\n",
    "\n",
    "cbar=plt.colorbar(cax,pad=0,fraction=0.046)\n",
    "cbar.set_label('Correlation')\n",
    "ax.coastlines(resolution='10m')\n",
    "ax.plot(corr_array.lon.values[150],corr_array.lat.values[270],'ko',markersize=10)\n",
    "plt.show()"
   ]
  },
  {
   "cell_type": "code",
   "execution_count": null,
   "id": "22914418",
   "metadata": {},
   "outputs": [],
   "source": []
  }
 ],
 "metadata": {
  "kernelspec": {
   "display_name": "Python 3 (ipykernel)",
   "language": "python",
   "name": "python3"
  },
  "language_info": {
   "codemirror_mode": {
    "name": "ipython",
    "version": 3
   },
   "file_extension": ".py",
   "mimetype": "text/x-python",
   "name": "python",
   "nbconvert_exporter": "python",
   "pygments_lexer": "ipython3",
   "version": "3.9.18"
  }
 },
 "nbformat": 4,
 "nbformat_minor": 5
}
