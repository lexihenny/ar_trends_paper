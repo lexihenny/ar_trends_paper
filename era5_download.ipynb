{
 "cells": [
  {
   "cell_type": "code",
   "execution_count": null,
   "id": "29801e9a",
   "metadata": {},
   "outputs": [],
   "source": [
    "import xarray as xr\n",
    "import datetime as dt\n",
    "import pandas as pd\n",
    "import matplotlib.pyplot as plt\n",
    "import cartopy.crs as ccrs\n",
    "import os,errno\n",
    "import sys\n",
    "import numpy as np\n",
    "\n",
    "dir_data='/Users/ahenny/'"
   ]
  },
  {
   "cell_type": "code",
   "execution_count": null,
   "id": "41b47045",
   "metadata": {
    "scrolled": true
   },
   "outputs": [],
   "source": [
    "import cdsapi\n",
    "#'vertical_integral_of_eastward_water_vapour_flux'\n",
    "#'vertical_integral_of_divergence_of_moisture_flux'\n",
    "#'total_column_water_vapour'\n",
    "#yrs=np.arange(1952,2023,1)\n",
    "yrs=np.arange(2023,2024,1)\n",
    "for l in range(len(yrs)):\n",
    "    year=yrs[l]\n",
    "    \n",
    "    c = cdsapi.Client()\n",
    "\n",
    "    c.retrieve(\n",
    "        'reanalysis-era5-single-levels',\n",
    "        {\n",
    "            'product_type': 'reanalysis',\n",
    "            'variable': 'total_column_water_vapour',\n",
    "            'year': [\n",
    "                str(year),\n",
    "            ],\n",
    "            'month': [\n",
    "                '01', '02', '03',\n",
    "                '04', '05', '06',\n",
    "                '07', '08', '09',\n",
    "                '10', '11', '12',\n",
    "            ],\n",
    "            'day': [\n",
    "                '01', '02', '03',\n",
    "                '04', '05', '06',\n",
    "                '07', '08', '09',\n",
    "                '10', '11', '12',\n",
    "                '13', '14', '15',\n",
    "                '16', '17', '18',\n",
    "                '19', '20', '21',\n",
    "                '22', '23', '24',\n",
    "                '25', '26', '27',\n",
    "                '28', '29', '30',\n",
    "                '31',\n",
    "            ],\n",
    "            'time': [\n",
    "                '00:00',\n",
    "                '06:00',\n",
    "                '12:00',\n",
    "                '18:00',\n",
    "            ],\n",
    "            'format': 'netcdf',\n",
    "        },\n",
    "        'era_5_iwv_'+str(year)+'.nc')"
   ]
  },
  {
   "cell_type": "code",
   "execution_count": null,
   "id": "504e65a8",
   "metadata": {},
   "outputs": [],
   "source": [
    "os.remove('/Users/ahenny/paper_1/era5.1hr.precip.nc')"
   ]
  },
  {
   "cell_type": "code",
   "execution_count": null,
   "id": "6a7c82fc",
   "metadata": {},
   "outputs": [],
   "source": [
    "year=2023\n",
    "ds=xr.open_dataset(dir_data+'merra2.iwv.3hr.model.'+str(year)+'.nc')\n",
    "test=ds['precip'][300,:,:]\n",
    "\n",
    "fig=plt.figure(figsize=(20,10))\n",
    "ax=plt.subplot(1,1,1,projection=ccrs.PlateCarree())\n",
    "ax.pcolormesh(test.lon,test.lat,test,vmin=0,vmax=50,cmap=plt.cm.RdYlGn_r)\n",
    "ax.coastlines(resolution='10m')\n",
    "plt.show()"
   ]
  },
  {
   "cell_type": "code",
   "execution_count": null,
   "id": "7059581c",
   "metadata": {},
   "outputs": [],
   "source": [
    "print(ds)"
   ]
  },
  {
   "cell_type": "code",
   "execution_count": null,
   "id": "b0740990",
   "metadata": {},
   "outputs": [],
   "source": [
    "import cdsapi\n",
    "#'vertical_integral_of_eastward_water_vapour_flux'\n",
    "#'vertical_integral_of_divergence_of_moisture_flux'\n",
    "#'total_column_water_vapour'\n",
    "#yrs=np.arange(1952,2023,1)\n",
    "yrs=np.arange(2023,2024,1)\n",
    "for l in range(len(yrs)):\n",
    "    year=yrs[l]\n",
    "    \n",
    "    c = cdsapi.Client()\n",
    "\n",
    "    c.retrieve(\n",
    "        'reanalysis-era5-pressure-levels',\n",
    "        {\n",
    "            'product_type': 'reanalysis',\n",
    "            'format': 'netcdf',\n",
    "            'variable': 'v_component_of_wind',\n",
    "            'pressure_level': '850',\n",
    "            'year': [\n",
    "                str(year),\n",
    "            ],\n",
    "            'month': [\n",
    "                '01', '02', '03',\n",
    "                '04', '05', '06',\n",
    "                '07', '08', '09',\n",
    "                '10', '11', '12',\n",
    "            ],\n",
    "            'day': [\n",
    "                '01', '02', '03',\n",
    "                '04', '05', '06',\n",
    "                '07', '08', '09',\n",
    "                '10', '11', '12',\n",
    "                '13', '14', '15',\n",
    "                '16', '17', '18',\n",
    "                '19', '20', '21',\n",
    "                '22', '23', '24',\n",
    "                '25', '26', '27',\n",
    "                '28', '29', '30',\n",
    "                '31',\n",
    "            ],\n",
    "            'time': [\n",
    "                '00:00',\n",
    "                '06:00',\n",
    "                '12:00',\n",
    "                '18:00',\n",
    "            ],\n",
    "        },\n",
    "        'era_5_v850_'+str(year)+'.nc')"
   ]
  },
  {
   "cell_type": "code",
   "execution_count": null,
   "id": "f70f44d9",
   "metadata": {},
   "outputs": [],
   "source": []
  }
 ],
 "metadata": {
  "kernelspec": {
   "display_name": "Python 3 (ipykernel)",
   "language": "python",
   "name": "python3"
  },
  "language_info": {
   "codemirror_mode": {
    "name": "ipython",
    "version": 3
   },
   "file_extension": ".py",
   "mimetype": "text/x-python",
   "name": "python",
   "nbconvert_exporter": "python",
   "pygments_lexer": "ipython3",
   "version": "3.9.12"
  }
 },
 "nbformat": 4,
 "nbformat_minor": 5
}
